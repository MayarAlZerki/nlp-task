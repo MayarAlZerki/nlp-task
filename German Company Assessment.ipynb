{
 "cells": [
  {
   "cell_type": "markdown",
   "id": "c8e181e0",
   "metadata": {},
   "source": [
    "## Loading Libraries "
   ]
  },
  {
   "cell_type": "code",
   "execution_count": 1,
   "id": "517ebe40",
   "metadata": {},
   "outputs": [
    {
     "name": "stderr",
     "output_type": "stream",
     "text": [
      "D:\\Anaconda3\\lib\\site-packages\\transformers\\utils\\generic.py:485: UserWarning: torch.utils._pytree._register_pytree_node is deprecated. Please use torch.utils._pytree.register_pytree_node instead.\n",
      "  _torch_pytree._register_pytree_node(\n",
      "D:\\Anaconda3\\lib\\site-packages\\transformers\\utils\\generic.py:342: UserWarning: torch.utils._pytree._register_pytree_node is deprecated. Please use torch.utils._pytree.register_pytree_node instead.\n",
      "  _torch_pytree._register_pytree_node(\n",
      "D:\\Anaconda3\\lib\\site-packages\\transformers\\utils\\generic.py:342: UserWarning: torch.utils._pytree._register_pytree_node is deprecated. Please use torch.utils._pytree.register_pytree_node instead.\n",
      "  _torch_pytree._register_pytree_node(\n"
     ]
    }
   ],
   "source": [
    "import re\n",
    "import numpy as np\n",
    "import pandas as pd\n",
    "from nltk.corpus import stopwords\n",
    "from matplotlib import pyplot as plt\n",
    "from sentence_transformers import SentenceTransformer, util, losses, InputExample, evaluation\n",
    "from datetime import datetime\n",
    "import os\n",
    "import torch\n",
    "from sklearn.model_selection import train_test_split\n",
    "from torch.utils.data import DataLoader\n",
    "from tqdm import tqdm\n",
    "import jellyfish\n",
    "\n",
    "%matplotlib inline"
   ]
  },
  {
   "cell_type": "code",
   "execution_count": 2,
   "id": "af6c3179",
   "metadata": {},
   "outputs": [
    {
     "data": {
      "text/html": [
       "<div>\n",
       "<style scoped>\n",
       "    .dataframe tbody tr th:only-of-type {\n",
       "        vertical-align: middle;\n",
       "    }\n",
       "\n",
       "    .dataframe tbody tr th {\n",
       "        vertical-align: top;\n",
       "    }\n",
       "\n",
       "    .dataframe thead th {\n",
       "        text-align: right;\n",
       "    }\n",
       "</style>\n",
       "<table border=\"1\" class=\"dataframe\">\n",
       "  <thead>\n",
       "    <tr style=\"text-align: right;\">\n",
       "      <th></th>\n",
       "      <th>id</th>\n",
       "      <th>text</th>\n",
       "      <th>label</th>\n",
       "      <th>extracted_part_text</th>\n",
       "      <th>extracted_part_answer_start</th>\n",
       "      <th>extracted_part_answer_end</th>\n",
       "    </tr>\n",
       "  </thead>\n",
       "  <tbody>\n",
       "    <tr>\n",
       "      <th>0</th>\n",
       "      <td>762883279</td>\n",
       "      <td>МУНИЦИПАЛЬНЫЙ КОНТРАКТ № ______ на оказание ус...</td>\n",
       "      <td>обеспечение исполнения контракта</td>\n",
       "      <td></td>\n",
       "      <td>0</td>\n",
       "      <td>0</td>\n",
       "    </tr>\n",
       "    <tr>\n",
       "      <th>1</th>\n",
       "      <td>311837655</td>\n",
       "      <td>Извещение о проведении электронного аукциона д...</td>\n",
       "      <td>обеспечение исполнения контракта</td>\n",
       "      <td>Обеспечение исполнения контракта</td>\n",
       "      <td>1215</td>\n",
       "      <td>1247</td>\n",
       "    </tr>\n",
       "    <tr>\n",
       "      <th>2</th>\n",
       "      <td>540954893</td>\n",
       "      <td>Идентификационный код закупки: 222633005300163...</td>\n",
       "      <td>обеспечение исполнения контракта</td>\n",
       "      <td>Обеспечение исполнения настоящего</td>\n",
       "      <td>1679</td>\n",
       "      <td>1712</td>\n",
       "    </tr>\n",
       "    <tr>\n",
       "      <th>3</th>\n",
       "      <td>274660397</td>\n",
       "      <td>Идентификационный код закупки: 222631202689463...</td>\n",
       "      <td>обеспечение исполнения контракта</td>\n",
       "      <td>Обеспечение исполнения настоящего</td>\n",
       "      <td>1691</td>\n",
       "      <td>1724</td>\n",
       "    </tr>\n",
       "    <tr>\n",
       "      <th>4</th>\n",
       "      <td>732742591</td>\n",
       "      <td>Идентификационный код закупки: 222637800031163...</td>\n",
       "      <td>обеспечение исполнения контракта</td>\n",
       "      <td>Обеспечение исполнения настоящего</td>\n",
       "      <td>1693</td>\n",
       "      <td>1726</td>\n",
       "    </tr>\n",
       "    <tr>\n",
       "      <th>...</th>\n",
       "      <td>...</td>\n",
       "      <td>...</td>\n",
       "      <td>...</td>\n",
       "      <td>...</td>\n",
       "      <td>...</td>\n",
       "      <td>...</td>\n",
       "    </tr>\n",
       "    <tr>\n",
       "      <th>313</th>\n",
       "      <td>854936033</td>\n",
       "      <td>ФЕДЕРАЛЬНОЕ ГОСУДАРСТВЕННОЕ УНИТАРНОЕ ПРЕДПРИЯ...</td>\n",
       "      <td>обеспечение гарантийных обязательств</td>\n",
       "      <td></td>\n",
       "      <td>0</td>\n",
       "      <td>0</td>\n",
       "    </tr>\n",
       "    <tr>\n",
       "      <th>314</th>\n",
       "      <td>576390745</td>\n",
       "      <td>Часть III Проект договора Договор №______ пост...</td>\n",
       "      <td>обеспечение гарантийных обязательств</td>\n",
       "      <td>Возврат обеспечения гарантийных обязательств п...</td>\n",
       "      <td>2372</td>\n",
       "      <td>2425</td>\n",
       "    </tr>\n",
       "    <tr>\n",
       "      <th>315</th>\n",
       "      <td>323745820</td>\n",
       "      <td>УТВЕРЖДАЮ Председатель единой комиссии по осущ...</td>\n",
       "      <td>обеспечение гарантийных обязательств</td>\n",
       "      <td></td>\n",
       "      <td>0</td>\n",
       "      <td>0</td>\n",
       "    </tr>\n",
       "    <tr>\n",
       "      <th>316</th>\n",
       "      <td>712286194</td>\n",
       "      <td>Версия с 04.07.2022 года У Т В Е Р Ж Д А Ю «Го...</td>\n",
       "      <td>обеспечение гарантийных обязательств</td>\n",
       "      <td></td>\n",
       "      <td>0</td>\n",
       "      <td>0</td>\n",
       "    </tr>\n",
       "    <tr>\n",
       "      <th>317</th>\n",
       "      <td>880582082</td>\n",
       "      <td>Областное государственное бюджетное учреждение...</td>\n",
       "      <td>обеспечение гарантийных обязательств</td>\n",
       "      <td></td>\n",
       "      <td>0</td>\n",
       "      <td>0</td>\n",
       "    </tr>\n",
       "  </tbody>\n",
       "</table>\n",
       "<p>318 rows × 6 columns</p>\n",
       "</div>"
      ],
      "text/plain": [
       "            id                                               text  \\\n",
       "0    762883279  МУНИЦИПАЛЬНЫЙ КОНТРАКТ № ______ на оказание ус...   \n",
       "1    311837655  Извещение о проведении электронного аукциона д...   \n",
       "2    540954893  Идентификационный код закупки: 222633005300163...   \n",
       "3    274660397  Идентификационный код закупки: 222631202689463...   \n",
       "4    732742591  Идентификационный код закупки: 222637800031163...   \n",
       "..         ...                                                ...   \n",
       "313  854936033  ФЕДЕРАЛЬНОЕ ГОСУДАРСТВЕННОЕ УНИТАРНОЕ ПРЕДПРИЯ...   \n",
       "314  576390745  Часть III Проект договора Договор №______ пост...   \n",
       "315  323745820  УТВЕРЖДАЮ Председатель единой комиссии по осущ...   \n",
       "316  712286194  Версия с 04.07.2022 года У Т В Е Р Ж Д А Ю «Го...   \n",
       "317  880582082  Областное государственное бюджетное учреждение...   \n",
       "\n",
       "                                    label  \\\n",
       "0        обеспечение исполнения контракта   \n",
       "1        обеспечение исполнения контракта   \n",
       "2        обеспечение исполнения контракта   \n",
       "3        обеспечение исполнения контракта   \n",
       "4        обеспечение исполнения контракта   \n",
       "..                                    ...   \n",
       "313  обеспечение гарантийных обязательств   \n",
       "314  обеспечение гарантийных обязательств   \n",
       "315  обеспечение гарантийных обязательств   \n",
       "316  обеспечение гарантийных обязательств   \n",
       "317  обеспечение гарантийных обязательств   \n",
       "\n",
       "                                   extracted_part_text  \\\n",
       "0                                                        \n",
       "1                     Обеспечение исполнения контракта   \n",
       "2                    Обеспечение исполнения настоящего   \n",
       "3                    Обеспечение исполнения настоящего   \n",
       "4                    Обеспечение исполнения настоящего   \n",
       "..                                                 ...   \n",
       "313                                                      \n",
       "314  Возврат обеспечения гарантийных обязательств п...   \n",
       "315                                                      \n",
       "316                                                      \n",
       "317                                                      \n",
       "\n",
       "     extracted_part_answer_start  extracted_part_answer_end  \n",
       "0                              0                          0  \n",
       "1                           1215                       1247  \n",
       "2                           1679                       1712  \n",
       "3                           1691                       1724  \n",
       "4                           1693                       1726  \n",
       "..                           ...                        ...  \n",
       "313                            0                          0  \n",
       "314                         2372                       2425  \n",
       "315                            0                          0  \n",
       "316                            0                          0  \n",
       "317                            0                          0  \n",
       "\n",
       "[318 rows x 6 columns]"
      ]
     },
     "execution_count": 2,
     "metadata": {},
     "output_type": "execute_result"
    }
   ],
   "source": [
    "df = pd.read_json('test_ans.json')\n",
    "df"
   ]
  },
  {
   "cell_type": "code",
   "execution_count": 3,
   "id": "bddcff08",
   "metadata": {},
   "outputs": [
    {
     "data": {
      "text/html": [
       "<div>\n",
       "<style scoped>\n",
       "    .dataframe tbody tr th:only-of-type {\n",
       "        vertical-align: middle;\n",
       "    }\n",
       "\n",
       "    .dataframe tbody tr th {\n",
       "        vertical-align: top;\n",
       "    }\n",
       "\n",
       "    .dataframe thead th {\n",
       "        text-align: right;\n",
       "    }\n",
       "</style>\n",
       "<table border=\"1\" class=\"dataframe\">\n",
       "  <thead>\n",
       "    <tr style=\"text-align: right;\">\n",
       "      <th></th>\n",
       "      <th>id</th>\n",
       "      <th>text</th>\n",
       "      <th>label</th>\n",
       "      <th>extracted_part_text</th>\n",
       "      <th>extracted_part_answer_start</th>\n",
       "      <th>extracted_part_answer_end</th>\n",
       "    </tr>\n",
       "  </thead>\n",
       "  <tbody>\n",
       "    <tr>\n",
       "      <th>0</th>\n",
       "      <td>762883279</td>\n",
       "      <td>МУНИЦИПАЛЬНЫЙ КОНТРАКТ № ______ на оказание ус...</td>\n",
       "      <td>обеспечение исполнения контракта</td>\n",
       "      <td>NaN</td>\n",
       "      <td>0</td>\n",
       "      <td>0</td>\n",
       "    </tr>\n",
       "    <tr>\n",
       "      <th>1</th>\n",
       "      <td>311837655</td>\n",
       "      <td>Извещение о проведении электронного аукциона д...</td>\n",
       "      <td>обеспечение исполнения контракта</td>\n",
       "      <td>Обеспечение исполнения контракта</td>\n",
       "      <td>1215</td>\n",
       "      <td>1247</td>\n",
       "    </tr>\n",
       "    <tr>\n",
       "      <th>2</th>\n",
       "      <td>540954893</td>\n",
       "      <td>Идентификационный код закупки: 222633005300163...</td>\n",
       "      <td>обеспечение исполнения контракта</td>\n",
       "      <td>Обеспечение исполнения настоящего</td>\n",
       "      <td>1679</td>\n",
       "      <td>1712</td>\n",
       "    </tr>\n",
       "    <tr>\n",
       "      <th>3</th>\n",
       "      <td>274660397</td>\n",
       "      <td>Идентификационный код закупки: 222631202689463...</td>\n",
       "      <td>обеспечение исполнения контракта</td>\n",
       "      <td>Обеспечение исполнения настоящего</td>\n",
       "      <td>1691</td>\n",
       "      <td>1724</td>\n",
       "    </tr>\n",
       "    <tr>\n",
       "      <th>4</th>\n",
       "      <td>732742591</td>\n",
       "      <td>Идентификационный код закупки: 222637800031163...</td>\n",
       "      <td>обеспечение исполнения контракта</td>\n",
       "      <td>Обеспечение исполнения настоящего</td>\n",
       "      <td>1693</td>\n",
       "      <td>1726</td>\n",
       "    </tr>\n",
       "    <tr>\n",
       "      <th>...</th>\n",
       "      <td>...</td>\n",
       "      <td>...</td>\n",
       "      <td>...</td>\n",
       "      <td>...</td>\n",
       "      <td>...</td>\n",
       "      <td>...</td>\n",
       "    </tr>\n",
       "    <tr>\n",
       "      <th>313</th>\n",
       "      <td>854936033</td>\n",
       "      <td>ФЕДЕРАЛЬНОЕ ГОСУДАРСТВЕННОЕ УНИТАРНОЕ ПРЕДПРИЯ...</td>\n",
       "      <td>обеспечение гарантийных обязательств</td>\n",
       "      <td>NaN</td>\n",
       "      <td>0</td>\n",
       "      <td>0</td>\n",
       "    </tr>\n",
       "    <tr>\n",
       "      <th>314</th>\n",
       "      <td>576390745</td>\n",
       "      <td>Часть III Проект договора Договор №______ пост...</td>\n",
       "      <td>обеспечение гарантийных обязательств</td>\n",
       "      <td>Возврат обеспечения гарантийных обязательств п...</td>\n",
       "      <td>2372</td>\n",
       "      <td>2425</td>\n",
       "    </tr>\n",
       "    <tr>\n",
       "      <th>315</th>\n",
       "      <td>323745820</td>\n",
       "      <td>УТВЕРЖДАЮ Председатель единой комиссии по осущ...</td>\n",
       "      <td>обеспечение гарантийных обязательств</td>\n",
       "      <td>NaN</td>\n",
       "      <td>0</td>\n",
       "      <td>0</td>\n",
       "    </tr>\n",
       "    <tr>\n",
       "      <th>316</th>\n",
       "      <td>712286194</td>\n",
       "      <td>Версия с 04.07.2022 года У Т В Е Р Ж Д А Ю «Го...</td>\n",
       "      <td>обеспечение гарантийных обязательств</td>\n",
       "      <td>NaN</td>\n",
       "      <td>0</td>\n",
       "      <td>0</td>\n",
       "    </tr>\n",
       "    <tr>\n",
       "      <th>317</th>\n",
       "      <td>880582082</td>\n",
       "      <td>Областное государственное бюджетное учреждение...</td>\n",
       "      <td>обеспечение гарантийных обязательств</td>\n",
       "      <td>NaN</td>\n",
       "      <td>0</td>\n",
       "      <td>0</td>\n",
       "    </tr>\n",
       "  </tbody>\n",
       "</table>\n",
       "<p>318 rows × 6 columns</p>\n",
       "</div>"
      ],
      "text/plain": [
       "            id                                               text  \\\n",
       "0    762883279  МУНИЦИПАЛЬНЫЙ КОНТРАКТ № ______ на оказание ус...   \n",
       "1    311837655  Извещение о проведении электронного аукциона д...   \n",
       "2    540954893  Идентификационный код закупки: 222633005300163...   \n",
       "3    274660397  Идентификационный код закупки: 222631202689463...   \n",
       "4    732742591  Идентификационный код закупки: 222637800031163...   \n",
       "..         ...                                                ...   \n",
       "313  854936033  ФЕДЕРАЛЬНОЕ ГОСУДАРСТВЕННОЕ УНИТАРНОЕ ПРЕДПРИЯ...   \n",
       "314  576390745  Часть III Проект договора Договор №______ пост...   \n",
       "315  323745820  УТВЕРЖДАЮ Председатель единой комиссии по осущ...   \n",
       "316  712286194  Версия с 04.07.2022 года У Т В Е Р Ж Д А Ю «Го...   \n",
       "317  880582082  Областное государственное бюджетное учреждение...   \n",
       "\n",
       "                                    label  \\\n",
       "0        обеспечение исполнения контракта   \n",
       "1        обеспечение исполнения контракта   \n",
       "2        обеспечение исполнения контракта   \n",
       "3        обеспечение исполнения контракта   \n",
       "4        обеспечение исполнения контракта   \n",
       "..                                    ...   \n",
       "313  обеспечение гарантийных обязательств   \n",
       "314  обеспечение гарантийных обязательств   \n",
       "315  обеспечение гарантийных обязательств   \n",
       "316  обеспечение гарантийных обязательств   \n",
       "317  обеспечение гарантийных обязательств   \n",
       "\n",
       "                                   extracted_part_text  \\\n",
       "0                                                  NaN   \n",
       "1                     Обеспечение исполнения контракта   \n",
       "2                    Обеспечение исполнения настоящего   \n",
       "3                    Обеспечение исполнения настоящего   \n",
       "4                    Обеспечение исполнения настоящего   \n",
       "..                                                 ...   \n",
       "313                                                NaN   \n",
       "314  Возврат обеспечения гарантийных обязательств п...   \n",
       "315                                                NaN   \n",
       "316                                                NaN   \n",
       "317                                                NaN   \n",
       "\n",
       "     extracted_part_answer_start  extracted_part_answer_end  \n",
       "0                              0                          0  \n",
       "1                           1215                       1247  \n",
       "2                           1679                       1712  \n",
       "3                           1691                       1724  \n",
       "4                           1693                       1726  \n",
       "..                           ...                        ...  \n",
       "313                            0                          0  \n",
       "314                         2372                       2425  \n",
       "315                            0                          0  \n",
       "316                            0                          0  \n",
       "317                            0                          0  \n",
       "\n",
       "[318 rows x 6 columns]"
      ]
     },
     "execution_count": 3,
     "metadata": {},
     "output_type": "execute_result"
    }
   ],
   "source": [
    "df.replace('', np.nan, inplace = True)\n",
    "df"
   ]
  },
  {
   "cell_type": "markdown",
   "id": "112ffc6d",
   "metadata": {},
   "source": [
    "## Checking if there are any null values in the dataframe"
   ]
  },
  {
   "cell_type": "code",
   "execution_count": 4,
   "id": "633e2ee1",
   "metadata": {},
   "outputs": [
    {
     "data": {
      "image/png": "[encoded data removed]",
      "text/plain": [
       "<Figure size 640x480 with 1 Axes>"
      ]
     },
     "metadata": {},
     "output_type": "display_data"
    }
   ],
   "source": [
    "null_percentage = df.isnull().mean()*100\n",
    "\n",
    "x_ticks = [0,20,40,60,80,100]\n",
    "null_percentage.plot(kind='barh', color='skyblue')\n",
    "plt.title('Percentage of Null Value for Each Column')\n",
    "plt.grid(axis='x', linestyle='--', alpha=0.5)\n",
    "plt.xlabel('Percentage out of 100%')\n",
    "plt.ylabel('Column Name')\n",
    "plt.xticks(x_ticks, [f'{i}%' for i in x_ticks])\n",
    "plt.xlim(0,100)\n",
    "plt.show()"
   ]
  },
  {
   "cell_type": "code",
   "execution_count": 5,
   "id": "e7a558ef",
   "metadata": {},
   "outputs": [
    {
     "data": {
      "image/png": "[encoded data removed]",
      "text/plain": [
       "<Figure size 640x480 with 1 Axes>"
      ]
     },
     "metadata": {},
     "output_type": "display_data"
    }
   ],
   "source": [
    "plt.pie(df['label'].value_counts(), labels=df['label'].unique(), autopct='%1.1f%%')\n",
    "plt.title('Percentage of Unique Labels in The DataFrame')\n",
    "plt.show()"
   ]
  },
  {
   "cell_type": "markdown",
   "id": "62456f3c",
   "metadata": {},
   "source": [
    "## Text Preprocessing"
   ]
  },
  {
   "cell_type": "code",
   "execution_count": 6,
   "id": "55cc5a20",
   "metadata": {
    "scrolled": true
   },
   "outputs": [],
   "source": [
    "def expand_abbreviations(text):\n",
    "\n",
    "    \"\"\"\n",
    "    Expand abbreviations in a given text string based on predefined mapping rules.\n",
    "\n",
    "    This function replaces common abbreviations found within the text with their full forms.\n",
    "    The replacements are case-sensitive, and ensure that the word following the abbreviation is in lowercase.\n",
    "\n",
    "    Parameters:\n",
    "    - text (str): The text in which abbreviations need to be expanded.\n",
    "\n",
    "    Returns:\n",
    "    - str: The text with abbreviations expanded.\n",
    "\n",
    "    The abbreviations and their expansions are stored in a dictionary. Each key in this dictionary\n",
    "    is an abbreviation, and its corresponding value is the full form. The function iterates through\n",
    "    each abbreviation, searches for it followed by a space and a word character, and replaces it\n",
    "    with its full form followed by the word in lowercase. This is done using a regular expression\n",
    "    that matches the abbreviation followed by any subsequent word characters, ensuring that the\n",
    "    abbreviation is isolated and not part of another word.\n",
    "\n",
    "    Example:\n",
    "    >>> expand_abbreviations(\"ул. Пушкина\")\n",
    "    'улица пушкина'\n",
    "    \"\"\"\n",
    "\n",
    "    # Dictionary of abbreviations (extracted depending on data exploration)\n",
    "    abbv = dict({'ул.':'улица',\n",
    "                 'г.':'город',\n",
    "                 'пр.':'город',\n",
    "                 'ст.':'статья',\n",
    "                 'ч.':'часть'})\n",
    "\n",
    "    for key, value in abbv.items():\n",
    "        pattern = re.compile(re.escape(key) + r'\\s(\\w+)')\n",
    "        # sub finds and replaces matches with the value and lower the second captured group which is the word after the key\n",
    "        # this replacement is implemented on the text variable\n",
    "        text = pattern.sub(lambda match: f'{value} {match.group(1).lower()}', text)\n",
    "    return text\n",
    "\n",
    "\n",
    "def detect_numbering(text):\n",
    "\n",
    "    \"\"\"\n",
    "    Detects and modifies numbered lists in a string, accounting for nested parenthetical expressions.\n",
    "\n",
    "    This function searches through the provided text for numbering patterns such as '2.', '1.1.', or '2.1.1)'\n",
    "    and adjusts them ensuring they are not within nested parentheses. It handles formatting by ensuring each detected\n",
    "    numbering sequence begins on a new line and is followed by a correctly capitalized word.\n",
    "\n",
    "    Parameters:\n",
    "    - text (str): The input text containing potential numbering sequences.\n",
    "\n",
    "    Returns:\n",
    "    - str: The modified text with numbering sequences formatted and positioned.\n",
    "\n",
    "    The function uses a regular expression pattern to identify valid numbering sequences and checks whether these sequences are within\n",
    "    nested parentheses by tracking the depth of nesting. If a numbering sequence is found outside of any nested parentheses, its position\n",
    "    is recorded. The text is then modified to ensure that each numbering sequence starts on a new line and the first word following the\n",
    "    sequence is capitalized if necessary.\n",
    "\n",
    "    Example:\n",
    "    >>> detect_numbering(\"Here is a list: (1. First item, 2. Second item), and outside the list 1. New item\")\n",
    "    'Here is a list: (1. First item, 2. Second item), and outside the list\\n1. New item'\n",
    "    \"\"\"\n",
    "\n",
    "    # character pointer\n",
    "    i = 0\n",
    "    \n",
    "    # Tracks the depth of the nested parantheses\n",
    "    depth = 0\n",
    "    \n",
    "    # List to store the tuple (start, end) indices of the valid numbering system matches that are outside the nested parantheses, so it is considered valid\n",
    "    valid_numbering_positions = []\n",
    "    \n",
    "    # Pattern to find numbering systems like '2.', '1.1.', '1.1.1.', '2)', '2.1)', or '2.1.1)'.\n",
    "    numbering_pattern = re.compile(r'\\b(\\d+(\\.\\d+)*[\\.)])(?=\\s|$|\\n)') # \\b indicates new word\n",
    "\n",
    "    while i < len(text):\n",
    "        # if the character is '(': increment the depth by 1 which indicates a new level of nesting\n",
    "        if text[i] == '(':\n",
    "            depth += 1\n",
    "\n",
    "        # if character is ')' and depth > 0: decrement the depth by 1 which indicates exiting the current nesting level\n",
    "        elif text[i] == ')':\n",
    "            if depth > 0:\n",
    "                depth -= 1\n",
    "\n",
    "        # if a numbering pattern was found in the text and depth is 0, it indicates that the match is not inside any parantheses\n",
    "        # so it appends the start and end indices to the valid_numbering_positions list\n",
    "        # and i moves to the end of the match to avoid re-checking the same numbering sequence\n",
    "        else:\n",
    "            match = numbering_pattern.match(text, i)\n",
    "            if match and depth == 0:\n",
    "                valid_numbering_positions.append((match.start(), match.end()))\n",
    "                # It moves to the end of the match, because if it moved one character so it moves to '.' in case the match is 1.1.\n",
    "                # so when i is at the index of the second 1 in 1.1. there is a matching case which is incorrect\n",
    "                i = match.end() - 1\n",
    "        i += 1\n",
    "\n",
    "    for start, end in reversed(valid_numbering_positions):\n",
    "        if start != 0 and text[start-2:start] != '. ':\n",
    "            text = text[:start] + '. ' + '\\n' + text[start:]\n",
    "        elif start != 0 and text[start-2:start] == '. ':\n",
    "            text = text[:start] + '\\n' + text[start:]\n",
    "        \n",
    "        text = adjust_next_word_case(text, end + 1)\n",
    "\n",
    "    return text\n",
    "\n",
    "\n",
    "def adjust_next_word_case(text, end):\n",
    "\n",
    "    \"\"\"\n",
    "    Adjusts the case of the next word in the text starting from a specified index, converting it to lowercase if it is initially uppercase.\n",
    "\n",
    "    This function locates the first word immediately following a given index (specified by 'end') and checks if it is in uppercase.\n",
    "    If the word is uppercase, the function converts the entire word to lowercase. This adjustment is  useful for standardizing\n",
    "    the case after modifying text with inserted punctuations or formatting changes that might follow specific patterns or styles.\n",
    "\n",
    "    Parameters:\n",
    "    - text (str): The text in which the word case needs to be adjusted.\n",
    "    - end (int): The index from which to start searching for the next word to adjust.\n",
    "\n",
    "    Returns:\n",
    "    - str: The modified text with the case of the next word adjusted.\n",
    "\n",
    "    The function searches for the next sequence of word characters following the 'end' index and checks if this word is capitalized.\n",
    "    If the word is capitalized, it is converted to lowercase. The search and conversion are done using regular expressions to identify \n",
    "    the next word boundary and string methods to change the case.\n",
    "\n",
    "    Example:\n",
    "    >>> adjust_next_word_case(\"Example text. NEW word to adjust.\", 13)\n",
    "    'Example text. new word to adjust.'\n",
    "    \"\"\"\n",
    "\n",
    "    next_word = re.search(r'\\w+[\\s]', text[end:])\n",
    "\n",
    "    if end < len(text) and next_word:\n",
    "        start_next_word = end + next_word.start()\n",
    "        end_next_word =  end + next_word.end()\n",
    "\n",
    "        if text[start_next_word].isupper():\n",
    "            text = text[:start_next_word] + text[start_next_word:end_next_word].lower() + text[end_next_word:]\n",
    "    return text\n",
    "\n",
    "\n",
    "def add_period(text):\n",
    "\n",
    "    \"\"\"\n",
    "    Adds periods to a text string to separate sentences based on capitalization patterns.\n",
    "\n",
    "    This function uses regular expressions identify occurrences where a word ending in a lowercase letter\n",
    "    is followed by a space and a capital letter, and inserts a period at the end of such words if they are\n",
    "    not already followed by a period. It then avoids adding periods inappropriately, such as when the capital\n",
    "    letter starts a new sentence already preceded by a period.\n",
    "\n",
    "    Parameters:\n",
    "    - text (str): The input text where periods may need to be added.\n",
    "\n",
    "    Returns:\n",
    "    - str: The text with periods added.\n",
    "\n",
    "    Example:\n",
    "    >>> add_period(\"This is an example Here is another\")\n",
    "    'This is an example. Here is another.'\n",
    "    \"\"\"\n",
    "\n",
    "    modifications = []\n",
    "    pattern = re.compile(r'\\b(\\w*[a-zа-яё])\\s([A-ZА-ЯЁ])')\n",
    "\n",
    "    for match in re.finditer(pattern, text):\n",
    "\n",
    "        # get the full word that ends with a small letter followed by a space and a capital letter\n",
    "        full_word = match.group(1)\n",
    "        # position of period to be added is the start index of the word that ends with a small letter + length of word\n",
    "        period_position = match.start(1) + len(full_word)\n",
    "\n",
    "        # checking if there is a period immediately before the matched word that ends with a small letter\n",
    "        # because if there is, it means that this is a new sentence and the word with the small letter is the beggining\n",
    "        # of a new sentence, so a period should not be added after it since it will become a sentence\n",
    "        if match.start(1) > 0 and text[match.start(1) - 2] != '.':\n",
    "\n",
    "            # if the first word starts with a small letter, there should be a period at the end of it\n",
    "            # the position of the period is appened to the list\n",
    "            if full_word[0].islower():\n",
    "                modifications.append(period_position)\n",
    "\n",
    "    for pos in reversed(modifications):\n",
    "        text = text[:pos] + '.' + text[pos:]\n",
    "    return text\n",
    "\n",
    "\n",
    "def preprocessing(text):\n",
    "\n",
    "    \"\"\"\n",
    "    Performs a series of preprocessing steps on a text string to standardize its format.\n",
    "\n",
    "    This function streamlines the text by reducing multiple spaces to a single space, expanding\n",
    "    abbreviations to their full forms, detecting and formatting numbering sequences, and adding\n",
    "    periods where necessary to separate sentences.\n",
    "\n",
    "    Parameters:\n",
    "    - text (str): The input text to be preprocessed.\n",
    "\n",
    "    Returns:\n",
    "    - str: The preprocessed text, with standardized spacing, expanded abbreviations, formatted\n",
    "    numbering, and correct sentence separation.\n",
    "\n",
    "    This function integrates multiple text processing functions: `expand_abbreviations`,\n",
    "    `detect_numbering`, and `add_period`, applying them sequentially to address different aspects\n",
    "    of text formatting.\n",
    "\n",
    "    \"\"\"\n",
    "\n",
    "    text = re.sub('\\s+', ' ', text)\n",
    "    text = expand_abbreviations(text)\n",
    "    text = detect_numbering(text)\n",
    "    text = add_period(text)\n",
    "    return text"
   ]
  },
  {
   "cell_type": "markdown",
   "id": "b491d7fd",
   "metadata": {},
   "source": [
    "## Sentence Tokenization"
   ]
  },
  {
   "cell_type": "code",
   "execution_count": 7,
   "id": "a86ac691",
   "metadata": {},
   "outputs": [],
   "source": [
    "def sent_tokenization(text):\n",
    "    \"\"\"\n",
    "    Splits a given text into sentences based on specific regular expression patterns and ensures \n",
    "    each sentence ends with a period.\n",
    "\n",
    "    The function uses a regular expression to identify sentence boundaries, typically\n",
    "    following periods that are succeeded by whitespace and an uppercase letter, or a \n",
    "    newline character. Each identified sentence is stripped of leading/trailing \n",
    "    whitespace, checked for terminal punctuation, and appended with a period if absent.\n",
    "\n",
    "    Parameters:\n",
    "    - text (str): The input text to be tokenized into sentences.\n",
    "\n",
    "    Returns:\n",
    "    - list[str]: A list of processed, punctuated sentences.\n",
    "    \"\"\"\n",
    "    processed_sentences = []\n",
    "    pattern = re.compile('\\.\\s(?=[A-ZА-ЯЁ])|\\.\\s\\n')\n",
    "\n",
    "    sentences = re.split(pattern, text)\n",
    "    for sentence in sentences:\n",
    "        stripped_sentence = sentence.strip()\n",
    "        if stripped_sentence:\n",
    "            if not stripped_sentence.endswith('.'):\n",
    "                stripped_sentence += '.'\n",
    "            processed_sentences.append(stripped_sentence)\n",
    "    return processed_sentences"
   ]
  },
  {
   "cell_type": "markdown",
   "id": "313fc8da",
   "metadata": {},
   "source": [
    "## Labels Case Lowering"
   ]
  },
  {
   "cell_type": "code",
   "execution_count": 8,
   "id": "da98c12d",
   "metadata": {},
   "outputs": [],
   "source": [
    "def case_lowering(label):\n",
    "    \"\"\"\n",
    "    Converts the input label to lowercase.\n",
    "\n",
    "    This function takes a string and returns it in all lowercase letters, which can be useful for \n",
    "    standardizing text data, particularly in case-sensitive contexts.\n",
    "\n",
    "    Parameters:\n",
    "    - label (str): The text label to be converted.\n",
    "\n",
    "    Returns:\n",
    "    - str: The converted lowercase string.\n",
    "    \"\"\"\n",
    "    return label.lower()"
   ]
  },
  {
   "cell_type": "markdown",
   "id": "a9747551",
   "metadata": {},
   "source": [
    "## Loading The Model "
   ]
  },
  {
   "cell_type": "code",
   "execution_count": 9,
   "id": "22a55f2d",
   "metadata": {},
   "outputs": [],
   "source": [
    "def model_loading(path):\n",
    "    \"\"\"\n",
    "    Loads a Sentence Transformer model from a specified path or downloads a default model if the path is not found.\n",
    "\n",
    "    This function checks for the existence of a model at the given path. If the model exists, it is loaded from the\n",
    "    local files. If not, the function defaults to downloading and loading the 'distiluse-base-multilingual-cased-v1'\n",
    "    model.\n",
    "\n",
    "    Parameters:\n",
    "    - path (str): The file path where the model is expected to be located.\n",
    "\n",
    "    Returns:\n",
    "    - SentenceTransformer: The loaded Sentence Transformer model.\n",
    "    \"\"\"\n",
    "    if os.path.exists(path):\n",
    "        model = SentenceTransformer(path)\n",
    "        print('Model was loaded from local files successfully.')\n",
    "    else:\n",
    "        model = SentenceTransformer('distiluse-base-multilingual-cased-v1')\n",
    "        print('Model was not found in local files. Downloading and loading the following model distiluse-base-multilingual-cased-v1...')\n",
    "    return model"
   ]
  },
  {
   "cell_type": "markdown",
   "id": "4acc843c",
   "metadata": {},
   "source": [
    "## Get Embeddings, Calculate Similarity, and Store Embeddings and Results "
   ]
  },
  {
   "cell_type": "code",
   "execution_count": 10,
   "id": "b5d23e5f",
   "metadata": {
    "scrolled": false
   },
   "outputs": [],
   "source": [
    "def store_embeddings(embeddings_list, record_id, sentence_embedding, label_embedding, max_idx):\n",
    "    \"\"\"\n",
    "    Appends a dictionary with embedding data to a list.\n",
    "\n",
    "    This function takes embedding details and a record identifier, and packages them into a dictionary\n",
    "    which is then appended to a provided list. This allows for organized storage of embeddings along with\n",
    "    associated metadata like the most similar sentence index.\n",
    "\n",
    "    Parameters:\n",
    "    - embeddings_list (list): The list to which the embedding data will be appended.\n",
    "    - record_id (int or str): The identifier associated with the embeddings.\n",
    "    - sentence_embedding (array-like): The embedding vector for the sentence.\n",
    "    - label_embedding (array-like): The embedding vector for the label.\n",
    "    - max_idx (int): Index of the most similar sentence in tokenized sentences.\n",
    "\n",
    "    Returns:\n",
    "    - list: The updated list with the new embedding data appended.\n",
    "    \"\"\"\n",
    "    embeddings_list.append({\n",
    "            'id': record_id,\n",
    "            'sentence_embedding': sentence_embedding,\n",
    "            'label_embedding': label_embedding,\n",
    "            'most_similar_sentence_idx_in_tokenized_sentences': max_idx\n",
    "        })\n",
    "    return embeddings_list\n",
    "\n",
    "\n",
    "def get_most_similar_sent(df, model):\n",
    "    \"\"\"\n",
    "    Computes similarity between label embeddings and sentence embeddings, identifies the most similar sentence,\n",
    "    and appends the results along with metadata to the input dataframe and a new embeddings list.\n",
    "\n",
    "    This function iterates over each row of the provided dataframe, computes the cosine similarity between the \n",
    "    sentence embeddings of tokenized sentences and the label embedding. It identifies the sentence with the highest\n",
    "    similarity score, updates the dataframe with this information, and appends the embeddings and metadata to a list.\n",
    "\n",
    "    Parameters:\n",
    "    - df (DataFrame): The dataframe containing text data with columns.\n",
    "    - model (SentenceTransformer): The Sentence Transformer model used for encoding text into embeddings.\n",
    "\n",
    "    Returns:\n",
    "    - tuple: A tuple containing the updated dataframe and a new dataframe created from the embeddings list.\n",
    "    \"\"\"\n",
    "    embeddings_list = list()\n",
    "    for i, row in df.iterrows():\n",
    "        # getting label embeddings\n",
    "        # [0]: return the first element to avoid dealing with nested cells\n",
    "        label_embedding = model.encode([row['label']], convert_to_tensor = True)[0]\n",
    "\n",
    "        # getting list of sentences of each record embeddings\n",
    "        sentence_embedding = model.encode(row['tokenized_sentences'], convert_to_tensor = True) # [len(row['tokenized_sentences']), 512]\n",
    "\n",
    "        # similarity result\n",
    "        similarity = util.cos_sim(sentence_embedding, label_embedding)\n",
    "\n",
    "        # most similar sentence and its index\n",
    "        max_idx = torch.argmax(similarity).item()\n",
    "        max_score = torch.max(similarity).item()\n",
    "\n",
    "        embeddings_df = store_embeddings(embeddings_list, row['id'], sentence_embedding, label_embedding, max_idx)\n",
    "        # storing embeddings in embeddings dataframe\n",
    "\n",
    "        # get full sentence from tokenized_sentences from its beginning to -1 in order to avoid the added period in the preprocessing\n",
    "        full_sentence = row['tokenized_sentences'][max_idx][:-1]\n",
    "        # full sentence start and end indices\n",
    "        start_idx = row['text'].find(full_sentence)\n",
    "        end_idx = start_idx + len(full_sentence)\n",
    "\n",
    "        # storing results in the same dataframe\n",
    "        df.loc[i, 'most_similar_sentence'] = row['tokenized_sentences'][max_idx]\n",
    "        df.loc[i, 'score'] = max_score\n",
    "        df.loc[i, 'most_similar_sentence_idx_in_tokenized_sentences'] = max_idx\n",
    "        df.loc[i, 'start_idx_most_similar_sentence'] = start_idx\n",
    "        df.loc[i, 'end_idx_most_similar_sentence'] = end_idx\n",
    "\n",
    "    return df, pd.DataFrame(embeddings_list)"
   ]
  },
  {
   "cell_type": "markdown",
   "id": "ca7c8ff0",
   "metadata": {},
   "source": [
    "# Get_Similarities Function Serves as a Pipeline to Get Embeddings Before Analysis"
   ]
  },
  {
   "cell_type": "code",
   "execution_count": 11,
   "id": "8da54050",
   "metadata": {},
   "outputs": [
    {
     "name": "stdout",
     "output_type": "stream",
     "text": [
      "Model was loaded from local files successfully.\n",
      "0:08:43.287668\n"
     ]
    }
   ],
   "source": [
    "def get_similarities(df, path):\n",
    "    \"\"\"\n",
    "    Processes text data in a dataframe, computes similarity between sentences and labels using a model, and\n",
    "    times the operation.\n",
    "\n",
    "    This function preprocesses the text and tokenizes sentences within the dataframe, converts labels to \n",
    "    lowercase, and loads a Sentence Transformer model from the specified path. It computes the most similar \n",
    "    sentence for each label in the dataframe, records the computation time, and prints it.\n",
    "\n",
    "    Parameters:\n",
    "    - df (DataFrame): Dataframe containing the columns 'text' and 'label'.\n",
    "    - path (str): Path to the Sentence Transformer model or the name of a default model.\n",
    "\n",
    "    Returns:\n",
    "    - tuple: A tuple containing the loaded model and the updated dataframe with additional columns detailing\n",
    "             similarity results and indices.\n",
    "    \"\"\"\n",
    "    df['text'] = df['text'].apply(preprocessing)\n",
    "    df['tokenized_sentences'] = df['text'].apply(sent_tokenization)\n",
    "    df['label'] = df['label'].apply(case_lowering)\n",
    "    model = model_loading(path)\n",
    "    \n",
    "    start_time = datetime.now()\n",
    "    df, embeddings_df = get_most_similar_sent(df, model)\n",
    "    print(datetime.now()-start_time)\n",
    "    return model, df\n",
    "\n",
    "model1, df1 = get_similarities(df, './distiluse-base-multilingual-cased-v1')"
   ]
  },
  {
   "cell_type": "markdown",
   "id": "e24720be",
   "metadata": {},
   "source": [
    "## Distribution of Similarity Score Among The Dataset "
   ]
  },
  {
   "cell_type": "code",
   "execution_count": 12,
   "id": "06b113e8",
   "metadata": {},
   "outputs": [
    {
     "data": {
      "image/png": "[encoded data removed]",
      "text/plain": [
       "<Figure size 640x480 with 1 Axes>"
      ]
     },
     "metadata": {},
     "output_type": "display_data"
    }
   ],
   "source": [
    "bins = np.arange(0,105,5)\n",
    "labels = [f'{i} - {i+4}' for i in range(0,100,5)]\n",
    "(pd.cut(df1['score']*100, bins, labels=labels)).value_counts().sort_index().plot(kind = 'barh', color='skyblue')\n",
    "\n",
    "plt.grid(axis='x', linestyle='--', alpha=0.5)\n",
    "plt.xlabel('Number of Samples')\n",
    "plt.ylabel('Bins')\n",
    "plt.title('Distribution of Scores')\n",
    "plt.show()"
   ]
  },
  {
   "cell_type": "markdown",
   "id": "4d2bb23c",
   "metadata": {},
   "source": [
    "## Percentage of Records with Scores >=65% Out of The Total Records"
   ]
  },
  {
   "cell_type": "code",
   "execution_count": 13,
   "id": "2ceb97c8",
   "metadata": {},
   "outputs": [
    {
     "data": {
      "image/png": "[encoded data removed]",
      "text/plain": [
       "<Figure size 640x480 with 1 Axes>"
      ]
     },
     "metadata": {},
     "output_type": "display_data"
    },
    {
     "name": "stdout",
     "output_type": "stream",
     "text": [
      "After results observation, we notice that records with score equal to or bigger than 65%\n",
      "are most of the times true in terms of finding the most similar sentence.\n",
      "Here we find that the percentage of these records with score equal to or more than 65% is 45.9% out of the total records.\n"
     ]
    }
   ],
   "source": [
    "total_records = len(df1) # 318\n",
    "high_score_records = len(df1[df1['score']*100>=65]) # 146\n",
    "\n",
    "high_score_percentage = (high_score_records*100)/total_records # 45.9%\n",
    "other_percentage = 100 - high_score_percentage # 54.1%\n",
    "\n",
    "values = [high_score_percentage, other_percentage]\n",
    "labels = ['Scores>=65%', 'Other']\n",
    "plt.pie(values, labels = labels, autopct='%1.1f%%')\n",
    "plt.title('Percentage of Records with Scores >=65% Out of The Total Records')\n",
    "plt.show()\n",
    "\n",
    "print('After results observation, we notice that records with score equal to or bigger than 65%\\n'+\n",
    "      'are most of the times true in terms of finding the most similar sentence.'+\n",
    "      '\\nHere we find that the percentage of these records with score equal to or more than 65% is 45.9% '+\n",
    "      'out of the total records.')"
   ]
  },
  {
   "cell_type": "markdown",
   "id": "e9fceddf",
   "metadata": {},
   "source": [
    "## Percentage of Records with Scores >=65% Against Percentage of Not Null Records in Expected Part Text"
   ]
  },
  {
   "cell_type": "code",
   "execution_count": 14,
   "id": "19fcad79",
   "metadata": {},
   "outputs": [
    {
     "data": {
      "image/png": "[encoded data removed]",
      "text/plain": [
       "<Figure size 640x480 with 1 Axes>"
      ]
     },
     "metadata": {},
     "output_type": "display_data"
    },
    {
     "name": "stdout",
     "output_type": "stream",
     "text": [
      "We notice that the percentage of records that have score equal to or bigger than 65%\n",
      "is bigger than the percentage of not null records in expected_part_text column.\n"
     ]
    }
   ],
   "source": [
    "total_records = len(df1) # 318\n",
    "high_score_records = len(df1[df1['score']*100>=65]) # 146\n",
    "not_null_text = df1['extracted_part_text'].notnull().sum() # 130\n",
    "\n",
    "high_score_percentage = (high_score_records*100)/total_records # 52.9%\n",
    "not_null_percentage = (not_null_text*100)/total_records # 47.1\n",
    "\n",
    "values = [high_score_percentage, not_null_percentage]\n",
    "labels = ['Scores>=65%', 'Not Null Expected Part Text']\n",
    "plt.pie(values, labels = labels, autopct='%1.1f%%', colors=['green','gray'])\n",
    "plt.title('Percentage of Records with Scores >=65%\\nAgainst Percentage of Not Null Records in Expected Part Text')\n",
    "plt.show()\n",
    "\n",
    "print('We notice that the percentage of records that have score equal to or bigger than 65%\\n'+\n",
    "      'is bigger than the percentage of not null records in expected_part_text column.')"
   ]
  },
  {
   "cell_type": "markdown",
   "id": "225f8b5a",
   "metadata": {},
   "source": [
    "## Fine-Tuning "
   ]
  },
  {
   "cell_type": "code",
   "execution_count": null,
   "id": "8bbca7ea",
   "metadata": {},
   "outputs": [],
   "source": [
    "def evaluating(path, testing_exSentenceTransformertenceTransformerples):\n",
    "\n",
    "    model = SentenceTransformer(path)\n",
    "    evaluator = evaluation.EmbeddingSimilarityEvaluator.from_input_examples(testing_examples)\n",
    "    return evaluator(model)"
   ]
  },
  {
   "cell_type": "code",
   "execution_count": 64,
   "id": "0ac00936",
   "metadata": {
    "scrolled": true
   },
   "outputs": [
    {
     "name": "stdout",
     "output_type": "stream",
     "text": [
      "Model was loaded from local files successfully.\n",
      "0:09:00.231014\n"
     ]
    },
    {
     "data": {
      "application/vnd.jupyter.widget-view+json": {
       "model_id": "9c6a09cdd42c41e9b6ce184e02f6168d",
       "version_major": 2,
       "version_minor": 0
      },
      "text/plain": [
       "Epoch:   0%|          | 0/5 [00:00<?, ?it/s]"
      ]
     },
     "metadata": {},
     "output_type": "display_data"
    },
    {
     "data": {
      "application/vnd.jupyter.widget-view+json": {
       "model_id": "e007f6ec6604456b99829611e9652315",
       "version_major": 2,
       "version_minor": 0
      },
      "text/plain": [
       "Iteration:   0%|          | 0/16 [00:00<?, ?it/s]"
      ]
     },
     "metadata": {},
     "output_type": "display_data"
    },
    {
     "data": {
      "application/vnd.jupyter.widget-view+json": {
       "model_id": "d10f4de8f0de45cebd5bf2e31f433817",
       "version_major": 2,
       "version_minor": 0
      },
      "text/plain": [
       "Iteration:   0%|          | 0/16 [00:00<?, ?it/s]"
      ]
     },
     "metadata": {},
     "output_type": "display_data"
    },
    {
     "data": {
      "application/vnd.jupyter.widget-view+json": {
       "model_id": "57d8f92044d24a158117afba3e85c686",
       "version_major": 2,
       "version_minor": 0
      },
      "text/plain": [
       "Iteration:   0%|          | 0/16 [00:00<?, ?it/s]"
      ]
     },
     "metadata": {},
     "output_type": "display_data"
    },
    {
     "data": {
      "application/vnd.jupyter.widget-view+json": {
       "model_id": "3e940a171a4640be85dd5fc1e3ffe48b",
       "version_major": 2,
       "version_minor": 0
      },
      "text/plain": [
       "Iteration:   0%|          | 0/16 [00:00<?, ?it/s]"
      ]
     },
     "metadata": {},
     "output_type": "display_data"
    },
    {
     "data": {
      "application/vnd.jupyter.widget-view+json": {
       "model_id": "aad16bf73b734f2ea1da695b1167c3d2",
       "version_major": 2,
       "version_minor": 0
      },
      "text/plain": [
       "Iteration:   0%|          | 0/16 [00:00<?, ?it/s]"
      ]
     },
     "metadata": {},
     "output_type": "display_data"
    }
   ],
   "source": [
    "def fit(df, column_name, model_path, filter_records, epochs=5, threshold=0.65):\n",
    "    \"\"\"\n",
    "    Fits a text similarity model using filtered or unfiltered data based on specified conditions and evaluates it.\n",
    "\n",
    "    The function processes the dataframe using a Sentence Transformer model to find similarities, then filters\n",
    "    records based on the score threshold if required. It creates training and testing datasets, configures data loaders,\n",
    "    defines a loss function, and sets up an evaluator for cosine similarity. The model is trained with these configurations\n",
    "    over specified epochs and periodically evaluated.\n",
    "\n",
    "    Parameters:\n",
    "    - df (DataFrame): DataFrame containing text, tokenized_sentences, and label column.\n",
    "    - column_name (str): The column of text to be used for training ('text' or 'tokenized_sentences').\n",
    "    - model_path (str): The path or name of the model to load.\n",
    "    - filter_records (bool): If True, filters examples where the similarity score is equal to or above the threshold.\n",
    "    - epochs (int, optional): Number of training epochs. Default is 5.\n",
    "    - threshold (float, optional): The similarity score threshold used to filter records. Default is 0.65.\n",
    "\n",
    "    \"\"\"\n",
    "    model, df = get_similarities(df, model_path)\n",
    "    # InputExample is used to create instances that represent the data\n",
    "    # each instance consists of a pair of texts and a label\n",
    "    if column_name == 'text':\n",
    "        if filter_records == False:\n",
    "            examples = [InputExample(texts=[row[column_name], row['label']], label=row['score']) for _, row in df.iterrows()]\n",
    "        else:\n",
    "            examples = [InputExample(texts=[row[column_name], row['label']], label=row['score']) for _, row in df.iterrows()\n",
    "                       if row['score']>=threshold]\n",
    "    elif column_name == 'tokenized_sentences':\n",
    "        if filter_records == False:\n",
    "            examples = [InputExample(texts=[' '.join(row[column_name]), row['label']], label=row['score']) for _, row in df.iterrows()]\n",
    "        else:\n",
    "            examples = [InputExample(texts=[' '.join(row[column_name]), row['label']], label=row['score']) for _, row in df.iterrows()\n",
    "                       if row['score']>=threshold]\n",
    "\n",
    "    training_examples, testing_examples = train_test_split(examples, test_size=0.2, train_size=0.8, random_state=42)\n",
    "    # Dataloader organizes the data into batches for efficient training\n",
    "    # collate_fn uses a custom collation function that pairs texts for training ensuring batches are created\n",
    "    # from texts of similar lengths to maximize the training efficeincy\n",
    "    training_dataloader = DataLoader(training_examples, batch_size=16, shuffle= True, collate_fn=model.smart_batching_collate)\n",
    "    # EmbeddingSimilarityEvaluator is used to evaulate the cosine similarity between embeddings generated\n",
    "    # by the model for the test set\n",
    "    evaluator = evaluation.EmbeddingSimilarityEvaluator.from_input_examples(testing_examples)\n",
    "\n",
    "    training_loss = losses.CosineSimilarityLoss(model)\n",
    "\n",
    "    total_steps = (len(training_examples)/training_dataloader.batch_size)*epochs\n",
    "\n",
    "    model.fit(train_objectives=[(training_dataloader, training_loss)],\n",
    "              evaluator=evaluator,\n",
    "              epochs=epochs,\n",
    "              evaluation_steps=total_steps/epochs, # 64 total steps for the model/4 epochs = 16 step per epoch\n",
    "              output_path=f'fine_tuned_model_{column_name}_Filtering_{filter_records}')\n",
    "\n",
    "    eval_score = evaluating(path, testing_examples)\n",
    "    return eval_score\n",
    "\n",
    "eval_score_text_no = fit(df, 'text', './distiluse-base-multilingual-cased-v1', False)"
   ]
  },
  {
   "cell_type": "markdown",
   "id": "f8b3372c",
   "metadata": {},
   "source": [
    "## Fine Tuning on tokenized_sentences Column"
   ]
  },
  {
   "cell_type": "code",
   "execution_count": 65,
   "id": "0f3787fe",
   "metadata": {},
   "outputs": [
    {
     "name": "stdout",
     "output_type": "stream",
     "text": [
      "Model was loaded from local files successfully.\n",
      "0:09:33.017351\n"
     ]
    },
    {
     "data": {
      "application/vnd.jupyter.widget-view+json": {
       "model_id": "5cd96276174c43d784b8dfac13d29b1b",
       "version_major": 2,
       "version_minor": 0
      },
      "text/plain": [
       "Epoch:   0%|          | 0/5 [00:00<?, ?it/s]"
      ]
     },
     "metadata": {},
     "output_type": "display_data"
    },
    {
     "data": {
      "application/vnd.jupyter.widget-view+json": {
       "model_id": "601bf1e5b57e41abb20e6d544bd29619",
       "version_major": 2,
       "version_minor": 0
      },
      "text/plain": [
       "Iteration:   0%|          | 0/16 [00:00<?, ?it/s]"
      ]
     },
     "metadata": {},
     "output_type": "display_data"
    },
    {
     "data": {
      "application/vnd.jupyter.widget-view+json": {
       "model_id": "4eb90e229b2a48d2b57e4fa653adb5c3",
       "version_major": 2,
       "version_minor": 0
      },
      "text/plain": [
       "Iteration:   0%|          | 0/16 [00:00<?, ?it/s]"
      ]
     },
     "metadata": {},
     "output_type": "display_data"
    },
    {
     "data": {
      "application/vnd.jupyter.widget-view+json": {
       "model_id": "d5bd2530db9e4f04a845150125283b59",
       "version_major": 2,
       "version_minor": 0
      },
      "text/plain": [
       "Iteration:   0%|          | 0/16 [00:00<?, ?it/s]"
      ]
     },
     "metadata": {},
     "output_type": "display_data"
    },
    {
     "data": {
      "application/vnd.jupyter.widget-view+json": {
       "model_id": "b17bcb08205e4a0cbddfd71c3902d883",
       "version_major": 2,
       "version_minor": 0
      },
      "text/plain": [
       "Iteration:   0%|          | 0/16 [00:00<?, ?it/s]"
      ]
     },
     "metadata": {},
     "output_type": "display_data"
    },
    {
     "data": {
      "application/vnd.jupyter.widget-view+json": {
       "model_id": "9fc3aa7e079244a8b43047fc699a2138",
       "version_major": 2,
       "version_minor": 0
      },
      "text/plain": [
       "Iteration:   0%|          | 0/16 [00:00<?, ?it/s]"
      ]
     },
     "metadata": {},
     "output_type": "display_data"
    }
   ],
   "source": [
    "eval_score_tokenized_no = fit(df, 'tokenized_sentences', './distiluse-base-multilingual-cased-v1', False)"
   ]
  },
  {
   "cell_type": "markdown",
   "id": "356391b5",
   "metadata": {},
   "source": [
    "## Previous Results (Default Model) <br> VS. Results of Fine-Tuned Model Using text Column <br> VS. Results of Fine-Tuned Model Using tokenized_sentences Column <br> Depending on EmbeddingSimilarityEvaluator (No Records Filtering)"
   ]
  },
  {
   "cell_type": "code",
   "execution_count": 66,
   "id": "1c53edbf",
   "metadata": {},
   "outputs": [
    {
     "name": "stdout",
     "output_type": "stream",
     "text": [
      "The following results depend on the EmbeddingSimilarityEvaluator that is set up during training on testing_examples.\n",
      "\n",
      "Model's score before fine-tuning: 46.23%.\n",
      "\n",
      "Model's score after fine-tuning and using text column: 51.40%\n",
      "\n",
      "Model's score after fine-tuning and using tokenized_sentences column: 51.48%\n"
     ]
    }
   ],
   "source": [
    "examples = [InputExample(texts=[row['text'], row['label']], label=row['score']) for _, row in df.iterrows()]\n",
    "training_examples, testing_examples = train_test_split(examples, test_size=0.2, train_size=0.8, random_state=42)\n",
    "evaluator = evaluation.EmbeddingSimilarityEvaluator.from_input_examples(testing_examples)\n",
    "\n",
    "normal_model = evaluator(SentenceTransformer('distiluse-base-multilingual-cased-v1'))\n",
    "\n",
    "fine_tuned_model_text = evaluator(SentenceTransformer('fine_tuned_model_text_Filtering_False'))\n",
    "\n",
    "\n",
    "examples = [InputExample(texts=[' '.join(row['tokenized_sentences']), row['label']], label=row['score']) for _, row in df.iterrows()]\n",
    "training_examples, testing_examples = train_test_split(examples, test_size=0.2, train_size=0.8, random_state=42)\n",
    "evaluator = evaluation.EmbeddingSimilarityEvaluator.from_input_examples(testing_examples)\n",
    "\n",
    "fine_tuned_model_tokenized_sentences = evaluator(SentenceTransformer('fine_tuned_model_tokenized_sentences_Filtering_False'))\n",
    "\n",
    "print(f\"\"\"The following results depend on the EmbeddingSimilarityEvaluator that is set up during training on testing_examples.\\n\n",
    "Model's score before fine-tuning: {normal_model:.2%}.\\n\n",
    "Model's score after fine-tuning and using text column: {fine_tuned_model_text:.2%}\\n\n",
    "Model's score after fine-tuning and using tokenized_sentences column: {fine_tuned_model_tokenized_sentences:.2%}\"\"\")"
   ]
  },
  {
   "cell_type": "markdown",
   "id": "40387bab",
   "metadata": {},
   "source": [
    "## Fine Tuning on Records with Similarity >= 65% "
   ]
  },
  {
   "cell_type": "code",
   "execution_count": 67,
   "id": "a91c9b53",
   "metadata": {},
   "outputs": [
    {
     "name": "stdout",
     "output_type": "stream",
     "text": [
      "Model was loaded from local files successfully.\n",
      "0:09:33.245043\n"
     ]
    },
    {
     "data": {
      "application/vnd.jupyter.widget-view+json": {
       "model_id": "0798b427ac1a42ebbc6f0225e2cccdd0",
       "version_major": 2,
       "version_minor": 0
      },
      "text/plain": [
       "Epoch:   0%|          | 0/5 [00:00<?, ?it/s]"
      ]
     },
     "metadata": {},
     "output_type": "display_data"
    },
    {
     "data": {
      "application/vnd.jupyter.widget-view+json": {
       "model_id": "10ed93974e6e4974afd143da82b5650a",
       "version_major": 2,
       "version_minor": 0
      },
      "text/plain": [
       "Iteration:   0%|          | 0/8 [00:00<?, ?it/s]"
      ]
     },
     "metadata": {},
     "output_type": "display_data"
    },
    {
     "data": {
      "application/vnd.jupyter.widget-view+json": {
       "model_id": "44d4a8ca38b0442eb5a62ae551eaa944",
       "version_major": 2,
       "version_minor": 0
      },
      "text/plain": [
       "Iteration:   0%|          | 0/8 [00:00<?, ?it/s]"
      ]
     },
     "metadata": {},
     "output_type": "display_data"
    },
    {
     "data": {
      "application/vnd.jupyter.widget-view+json": {
       "model_id": "5b2105c9c5a648eca7fac6a86f04fa4a",
       "version_major": 2,
       "version_minor": 0
      },
      "text/plain": [
       "Iteration:   0%|          | 0/8 [00:00<?, ?it/s]"
      ]
     },
     "metadata": {},
     "output_type": "display_data"
    },
    {
     "data": {
      "application/vnd.jupyter.widget-view+json": {
       "model_id": "f67754f61322480ba38ce96cbd115521",
       "version_major": 2,
       "version_minor": 0
      },
      "text/plain": [
       "Iteration:   0%|          | 0/8 [00:00<?, ?it/s]"
      ]
     },
     "metadata": {},
     "output_type": "display_data"
    },
    {
     "data": {
      "application/vnd.jupyter.widget-view+json": {
       "model_id": "20e1ff04900d45b49513c7d9ffc98c7f",
       "version_major": 2,
       "version_minor": 0
      },
      "text/plain": [
       "Iteration:   0%|          | 0/8 [00:00<?, ?it/s]"
      ]
     },
     "metadata": {},
     "output_type": "display_data"
    }
   ],
   "source": [
    "eval_score_text_yes = fit(df, 'text', './distiluse-base-multilingual-cased-v1', True)"
   ]
  },
  {
   "cell_type": "code",
   "execution_count": 68,
   "id": "feb44734",
   "metadata": {},
   "outputs": [
    {
     "name": "stdout",
     "output_type": "stream",
     "text": [
      "Model was loaded from local files successfully.\n",
      "0:09:28.910345\n"
     ]
    },
    {
     "data": {
      "application/vnd.jupyter.widget-view+json": {
       "model_id": "54ca133ad42d4f44acf4a4565d66ab92",
       "version_major": 2,
       "version_minor": 0
      },
      "text/plain": [
       "Epoch:   0%|          | 0/5 [00:00<?, ?it/s]"
      ]
     },
     "metadata": {},
     "output_type": "display_data"
    },
    {
     "data": {
      "application/vnd.jupyter.widget-view+json": {
       "model_id": "0856c2d0da05483797c08b322ea0c3ad",
       "version_major": 2,
       "version_minor": 0
      },
      "text/plain": [
       "Iteration:   0%|          | 0/8 [00:00<?, ?it/s]"
      ]
     },
     "metadata": {},
     "output_type": "display_data"
    },
    {
     "data": {
      "application/vnd.jupyter.widget-view+json": {
       "model_id": "ddbd8dbab8fe4b6aa256c756fcb2c675",
       "version_major": 2,
       "version_minor": 0
      },
      "text/plain": [
       "Iteration:   0%|          | 0/8 [00:00<?, ?it/s]"
      ]
     },
     "metadata": {},
     "output_type": "display_data"
    },
    {
     "data": {
      "application/vnd.jupyter.widget-view+json": {
       "model_id": "e50fc0bde45f43588df9a87bd5918735",
       "version_major": 2,
       "version_minor": 0
      },
      "text/plain": [
       "Iteration:   0%|          | 0/8 [00:00<?, ?it/s]"
      ]
     },
     "metadata": {},
     "output_type": "display_data"
    },
    {
     "data": {
      "application/vnd.jupyter.widget-view+json": {
       "model_id": "f79d420511c64032a17b88252e0953dd",
       "version_major": 2,
       "version_minor": 0
      },
      "text/plain": [
       "Iteration:   0%|          | 0/8 [00:00<?, ?it/s]"
      ]
     },
     "metadata": {},
     "output_type": "display_data"
    },
    {
     "data": {
      "application/vnd.jupyter.widget-view+json": {
       "model_id": "1dee0a14f8df4b5bab5c8c2e249bb407",
       "version_major": 2,
       "version_minor": 0
      },
      "text/plain": [
       "Iteration:   0%|          | 0/8 [00:00<?, ?it/s]"
      ]
     },
     "metadata": {},
     "output_type": "display_data"
    }
   ],
   "source": [
    "eval_score_tokenized_yes = fit(df, 'tokenized_sentences', './distiluse-base-multilingual-cased-v1', True)"
   ]
  },
  {
   "cell_type": "markdown",
   "id": "d209a11a",
   "metadata": {},
   "source": [
    "## Previous Results (Default Model) <br> VS. Results of Fine-Tuned Model Using text Column <br> VS. Results of Fine-Tuned Model Using tokenized_sentences Column <br> Depending on EmbeddingSimilarityEvaluator (Records Filtering)"
   ]
  },
  {
   "cell_type": "code",
   "execution_count": 69,
   "id": "ca5e6601",
   "metadata": {},
   "outputs": [
    {
     "name": "stdout",
     "output_type": "stream",
     "text": [
      "The following results depend on the EmbeddingSimilarityEvaluator that is set up during training on testing_examples.\n",
      "\n",
      "Model's score before fine-tuning with records filtering: -35.57%.\n",
      "\n",
      "Model's score after fine-tuning and using text column  with records filtering: -35.25%\n",
      "\n",
      "Model's score after fine-tuning and using tokenized_sentences column with records filtering: -35.25%\n"
     ]
    }
   ],
   "source": [
    "examples = [InputExample(texts=[row['text'], row['label']], label=row['score']) for _, row in df.iterrows()\n",
    "           if row['score']>=0.65]\n",
    "\n",
    "training_examples, testing_examples = train_test_split(examples, test_size=0.2, train_size=0.8, random_state=42)\n",
    "evaluator = evaluation.EmbeddingSimilarityEvaluator.from_input_examples(testing_examples)\n",
    "\n",
    "normal_model = evaluator(SentenceTransformer('distiluse-base-multilingual-cased-v1'))\n",
    "\n",
    "fine_tuned_model_text = evaluator(SentenceTransformer('fine_tuned_model_text_Filtering_True'))\n",
    "\n",
    "\n",
    "examples = [InputExample(texts=[' '.join(row['tokenized_sentences']), row['label']], label=row['score']) for _, row in df.iterrows()\n",
    "           if row['score']>=0.65]\n",
    "\n",
    "training_examples, testing_examples = train_test_split(examples, test_size=0.2, train_size=0.8, random_state=42)\n",
    "evaluator = evaluation.EmbeddingSimilarityEvaluator.from_input_examples(testing_examples)\n",
    "\n",
    "fine_tuned_model_tokenized_sentences = evaluator(SentenceTransformer('fine_tuned_model_tokenized_sentences_Filtering_True'))\n",
    "\n",
    "print(f\"\"\"The following results depend on the EmbeddingSimilarityEvaluator that is set up during training on testing_examples.\\n\n",
    "Model's score before fine-tuning with records filtering: {normal_model:.2%}.\\n\n",
    "Model's score after fine-tuning and using text column  with records filtering: {fine_tuned_model_text:.2%}\\n\n",
    "Model's score after fine-tuning and using tokenized_sentences column with records filtering: {fine_tuned_model_tokenized_sentences:.2%}\"\"\")"
   ]
  },
  {
   "cell_type": "markdown",
   "id": "a50de546",
   "metadata": {},
   "source": [
    "### Among all the models, model X was chosen for forecasting since it gots the heighest performance on EmbeddingSimilarityEvaluator "
   ]
  },
  {
   "cell_type": "code",
   "execution_count": 70,
   "id": "d5191e72",
   "metadata": {},
   "outputs": [
    {
     "name": "stdout",
     "output_type": "stream",
     "text": [
      "Model was loaded from local files successfully.\n",
      "0:09:13.760896\n"
     ]
    }
   ],
   "source": [
    "_, fine_tuned_df = get_similarities(df, 'fine_tuned_model_text_Filtering_False')"
   ]
  },
  {
   "cell_type": "markdown",
   "id": "cc66e9c3",
   "metadata": {},
   "source": [
    "## Distribution of Similarity Score Among The Dataset "
   ]
  },
  {
   "cell_type": "code",
   "execution_count": 71,
   "id": "c882567a",
   "metadata": {},
   "outputs": [
    {
     "data": {
      "image/png": "[encoded data removed]",
      "text/plain": [
       "<Figure size 640x480 with 1 Axes>"
      ]
     },
     "metadata": {},
     "output_type": "display_data"
    }
   ],
   "source": [
    "bins = np.arange(0,105,5)\n",
    "labels = [f'{i} - {i+4}' for i in range(0,100,5)]\n",
    "(pd.cut(fine_tuned_df['score']*100, bins, labels=labels)).value_counts().sort_index().plot(kind = 'barh', color='skyblue')\n",
    "\n",
    "plt.grid(axis='x', linestyle='--', alpha=0.5)\n",
    "plt.xlabel('Number of Samples')\n",
    "plt.ylabel('Bins')\n",
    "plt.title('Distribution of Scores')\n",
    "plt.show()"
   ]
  },
  {
   "cell_type": "markdown",
   "id": "fbe0f741",
   "metadata": {},
   "source": [
    "## Percentage of Records with Scores >=65% Out of The Total Records"
   ]
  },
  {
   "cell_type": "code",
   "execution_count": 74,
   "id": "f4ac371e",
   "metadata": {},
   "outputs": [
    {
     "data": {
      "image/png": "[encoded data removed]",
      "text/plain": [
       "<Figure size 640x480 with 1 Axes>"
      ]
     },
     "metadata": {},
     "output_type": "display_data"
    },
    {
     "name": "stdout",
     "output_type": "stream",
     "text": [
      "After results observation, we notice that the model performed better after fine-tuning on percentage of recordswith score equal to or bigger than 65%.\n",
      "\n",
      "Here we find that the percentage of these records with score equal to or more than 65% is 47.2%\n",
      "knowing that it was 45.9% out of the total records.\n"
     ]
    }
   ],
   "source": [
    "total_records = len(fine_tuned_df) # 318\n",
    "\n",
    "high_score_records = len(fine_tuned_df[fine_tuned_df['score']*100>=65]) # 150\n",
    "\n",
    "high_score_percentage = (high_score_records*100)/total_records # 47.5%\n",
    "other_percentage = 100 - high_score_percentage # 52.5%\n",
    "\n",
    "values = [high_score_percentage, other_percentage]\n",
    "labels = ['Scores>=65%', 'Other']\n",
    "plt.pie(values, labels = labels, autopct='%1.1f%%')\n",
    "plt.title('Percentage of Records with Scores >=65% Out of The Total Records')\n",
    "plt.show()\n",
    "\n",
    "print('After results observation, we notice that the model performed better after fine-tuning on percentage of records'+\n",
    "      'with score equal to or bigger than 65%.\\n'+\n",
    "      '\\nHere we find that the percentage of these records with score equal to or more than 65% is 47.5%\\nknowing that it was 45.9% '+\n",
    "      'out of the total records.')"
   ]
  },
  {
   "cell_type": "markdown",
   "id": "186128f2",
   "metadata": {},
   "source": [
    "## Percentage of Records with Scores >=65% Against Percentage of Not Null Records in Expected Part Text"
   ]
  },
  {
   "cell_type": "code",
   "execution_count": 73,
   "id": "66894e54",
   "metadata": {},
   "outputs": [
    {
     "data": {
      "image/png": "[encoded data removed]",
      "text/plain": [
       "<Figure size 640x480 with 1 Axes>"
      ]
     },
     "metadata": {},
     "output_type": "display_data"
    },
    {
     "name": "stdout",
     "output_type": "stream",
     "text": [
      "We notice that the percentage of records that have score equal to or bigger than 65%\n",
      "is bigger than the percentage of not null records in expected_part_text column.\n"
     ]
    }
   ],
   "source": [
    "total_records = len(fine_tuned_df) # 318\n",
    "high_score_records = len(fine_tuned_df[fine_tuned_df['score']*100>=65]) # 150\n",
    "not_null_text = fine_tuned_df['extracted_part_text'].notnull().sum() # 130\n",
    "\n",
    "high_score_percentage = (high_score_records*100)/total_records # 53.6%\n",
    "not_null_percentage = (not_null_text*100)/total_records # 46.4%\n",
    "\n",
    "values = [high_score_percentage, not_null_percentage]\n",
    "labels = ['Scores>=65%', 'Not Null Expected Part Text']\n",
    "plt.pie(values, labels = labels, autopct='%1.1f%%', colors=['green','gray'])\n",
    "plt.title('Percentage of Records with Scores >=65%\\nAgainst Percentage of Not Null Records in Expected Part Text')\n",
    "plt.show()\n",
    "\n",
    "print('We notice that the percentage of records that have score equal to or bigger than 65%\\n'+\n",
    "      'is bigger than the percentage of not null records in expected_part_text column.')"
   ]
  },
  {
   "cell_type": "code",
   "execution_count": null,
   "id": "a58f7926",
   "metadata": {},
   "outputs": [],
   "source": []
  }
 ],
 "metadata": {
  "kernelspec": {
   "display_name": "Python 3 (ipykernel)",
   "language": "python",
   "name": "python3"
  },
  "language_info": {
   "codemirror_mode": {
    "name": "ipython",
    "version": 3
   },
   "file_extension": ".py",
   "mimetype": "text/x-python",
   "name": "python",
   "nbconvert_exporter": "python",
   "pygments_lexer": "ipython3",
   "version": "3.10.9"
  }
 },
 "nbformat": 4,
 "nbformat_minor": 5
}
